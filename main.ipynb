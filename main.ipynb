{
 "metadata": {
  "language_info": {
   "codemirror_mode": {
    "name": "ipython",
    "version": 3
   },
   "file_extension": ".py",
   "mimetype": "text/x-python",
   "name": "python",
   "nbconvert_exporter": "python",
   "pygments_lexer": "ipython3",
   "version": "3.7.4-final"
  },
  "orig_nbformat": 2,
  "kernelspec": {
   "name": "python3",
   "display_name": "Python 3.7.4 64-bit (conda)",
   "metadata": {
    "interpreter": {
     "hash": "0ff1ee17a2e0113772fddf0f230277134c573c78f2c5cd263597035399a8b574"
    }
   }
  }
 },
 "nbformat": 4,
 "nbformat_minor": 2,
 "cells": [
  {
   "cell_type": "code",
   "execution_count": null,
   "metadata": {},
   "outputs": [],
   "source": [
    "# The aim is to determine the type of Eryhemato-Squamous Disease."
   ]
  },
  {
   "cell_type": "code",
   "execution_count": 1,
   "metadata": {},
   "outputs": [],
   "source": [
    "# importing required libraried\n",
    "import pandas as pd\n",
    "import numpy as np\n",
    "from pandas.plotting import scatter_matrix\n",
    "import matplotlib.pyplot as plt"
   ]
  },
  {
   "cell_type": "code",
   "execution_count": 23,
   "metadata": {},
   "outputs": [],
   "source": [
    "from sklearn import model_selection\n",
    "from sklearn.metrics import classification_report\n",
    "from sklearn.metrics import confusion_matrix\n",
    "from sklearn.metrics import accuracy_score\n"
   ]
  },
  {
   "cell_type": "code",
   "execution_count": 24,
   "metadata": {},
   "outputs": [],
   "source": [
    "# importing sklearn classification models\n",
    "\n",
    "from sklearn.linear_model import LogisticRegression\n",
    "from sklearn.tree import DecisionTreeClassifier\n",
    "from sklearn.neighbors import KNeighborsClassifier\n",
    "from sklearn.naive_bayes import GaussianNB\n",
    "from sklearn.svm import SVC\n",
    "\n",
    "from sklearn.discriminant_analysis import LinearDiscriminantAnalysis"
   ]
  },
  {
   "cell_type": "code",
   "execution_count": 5,
   "metadata": {},
   "outputs": [],
   "source": [
    "# renaming columns\n",
    "names = [\"erythema\" , \"scaling\", \"definite_borders\", \"itching\", \"koebner_phenomenon\", \"polygonal_papules\", \"follicular_papules\", \"oral_mucosal_involvement\", \"knee and elbow involvement\", \"scalp_involvement\", \"family_history\",\n",
    "\"melanin_incontinence\",\"eosinophils_in_the_infiltrate\", \"PNL_infiltrate\", \"fibrosis_of_the_papillary_dermis\", \"exocytosis\", \"acanthosis\", \"hyperkeratosis\", \"parakeratosis\", \"clubbing_of_the_rete_ridges\", \"elongation_of_the_rete_ridges\", \"thinning_of_the_suprapapillary_epidermis\", \"spongiform_pustule\", \"munro_microabcess\", \"focal_hypergranulosis\", \"disappearance_of_the_granular_layer\", \"vacuolisation_and_damage_of_basal_layer\", \"spongiosis\", \"saw-tooth_appearance_of_retes\", \"follicular_horn_plug\", \"perifollicular_parakeratosis\", \"inflammatory_monoluclear_inflitrate\", \"band-like_infiltrate\", \"Age\", \"Disease\"]"
   ]
  },
  {
   "cell_type": "code",
   "execution_count": 12,
   "metadata": {},
   "outputs": [],
   "source": [
    "# Loading dermatology dataset, download from UCI\n",
    "dataset = pd.read_csv('dermatology3.csv')"
   ]
  },
  {
   "cell_type": "code",
   "execution_count": 2,
   "metadata": {},
   "outputs": [],
   "source": [
    "#dataset.dtypes"
   ]
  },
  {
   "cell_type": "code",
   "execution_count": 5,
   "metadata": {},
   "outputs": [
    {
     "output_type": "execute_result",
     "data": {
      "text/plain": [
       "dtype('O')"
      ]
     },
     "metadata": {},
     "execution_count": 5
    }
   ],
   "source": [
    "dataset['Age'].dtypes"
   ]
  },
  {
   "cell_type": "code",
   "execution_count": 6,
   "metadata": {},
   "outputs": [
    {
     "output_type": "execute_result",
     "data": {
      "text/plain": [
       "erythema                                    0\n",
       "scaling                                     0\n",
       "definite_borders                            0\n",
       "itching                                     0\n",
       "koebner_phenomenon                          0\n",
       "polygonal_papules                           0\n",
       "follicular_papules                          0\n",
       "oral_mucosal_involvement                    0\n",
       "knee and elbow involvement                  0\n",
       "scalp_involvement                           0\n",
       "family_history                              0\n",
       "melanin_incontinence                        0\n",
       "eosinophils_in_the_infiltrate               0\n",
       "PNL_infiltrate                              0\n",
       "fibrosis_of_the_papillary_dermis            0\n",
       "exocytosis                                  0\n",
       "acanthosis                                  0\n",
       "hyperkeratosis                              0\n",
       "parakeratosis                               0\n",
       "clubbing_of_the_rete_ridges                 0\n",
       "elongation_of_the_rete_ridges               0\n",
       "thinning_of_the_suprapapillary_epidermis    0\n",
       "spongiform_pustule                          0\n",
       "munro_microabcess                           0\n",
       "focal_hypergranulosis                       0\n",
       "disappearance_of_the_granular_layer         0\n",
       "vacuolisation_and_damage_of_basal_layer     0\n",
       "spongiosis                                  0\n",
       "saw-tooth_appearance_of_retes               0\n",
       "follicular_horn_plug                        0\n",
       "perifollicular_parakeratosis                0\n",
       "inflammatory_monoluclear_inflitrate         0\n",
       "band-like_infiltrate                        0\n",
       "Age                                         8\n",
       "Disease                                     0\n",
       "dtype: int64"
      ]
     },
     "metadata": {},
     "execution_count": 6
    }
   ],
   "source": [
    "dataset.isin([\"?\"]).sum(axis=0)"
   ]
  },
  {
   "cell_type": "code",
   "execution_count": 7,
   "metadata": {},
   "outputs": [],
   "source": [
    "#  class distrubution of the target column\n",
    "#dataset.groupby('Disease').size()"
   ]
  },
  {
   "cell_type": "code",
   "execution_count": 1,
   "metadata": {},
   "outputs": [],
   "source": [
    "#dataset.corr()"
   ]
  },
  {
   "cell_type": "code",
   "execution_count": 13,
   "metadata": {},
   "outputs": [
    {
     "output_type": "execute_result",
     "data": {
      "text/plain": [
       "8"
      ]
     },
     "metadata": {},
     "execution_count": 13
    }
   ],
   "source": [
    "dataset['Age'].isin([\"?\"]).sum(axis=0)"
   ]
  },
  {
   "cell_type": "code",
   "execution_count": 61,
   "metadata": {},
   "outputs": [],
   "source": [
    "import numpy as np"
   ]
  },
  {
   "cell_type": "code",
   "execution_count": 115,
   "metadata": {},
   "outputs": [
    {
     "output_type": "execute_result",
     "data": {
      "text/plain": [
       "erythema                                      0\n",
       "scaling                                       0\n",
       "definite_borders                              0\n",
       "itching                                       0\n",
       "koebner_phenomenon                            0\n",
       "polygonal_papules                             0\n",
       "follicular_papules                            0\n",
       "oral_mucosal_involvement                      0\n",
       "knee and elbow involvement                    0\n",
       "scalp_involvement                             0\n",
       "family_history                                0\n",
       "melanin_incontinence                          0\n",
       "eosinophils_in_the_infiltrate                 0\n",
       "PNL_infiltrate                                0\n",
       "fibrosis_of_the_papillary_dermis              0\n",
       "exocytosis                                    0\n",
       "acanthosis                                    0\n",
       "hyperkeratosis                                0\n",
       "parakeratosis                                 0\n",
       "clubbing_of_the_rete_ridges                   0\n",
       "elongation_of_the_rete_ridges                 0\n",
       "thinning_of_the_suprapapillary_epidermis      0\n",
       "spongiform_pustule                            0\n",
       "munro_microabcess                             0\n",
       "focal_hypergranulosis                         0\n",
       "disappearance_of_the_granular_layer           0\n",
       "vacuolisation_and_damage_of_basal_layer       0\n",
       "spongiosis                                    0\n",
       "saw-tooth_appearance_of_retes                 0\n",
       "follicular_horn_plug                          0\n",
       "perifollicular_parakeratosis                  0\n",
       "inflammatory_monoluclear_inflitrate           0\n",
       "band-like_infiltrate                          0\n",
       "Age                                         365\n",
       "Disease                                       0\n",
       "dtype: int64"
      ]
     },
     "metadata": {},
     "execution_count": 115
    }
   ],
   "source": [
    "dataset.isna().sum()"
   ]
  },
  {
   "cell_type": "code",
   "execution_count": 14,
   "metadata": {},
   "outputs": [],
   "source": [
    "# code will replace the special character to nan and then drop the columns \n",
    "dataset['Age'] = dataset['Age'].replace('?',np.nan)"
   ]
  },
  {
   "cell_type": "code",
   "execution_count": 15,
   "metadata": {},
   "outputs": [
    {
     "output_type": "execute_result",
     "data": {
      "text/plain": [
       "8"
      ]
     },
     "metadata": {},
     "execution_count": 15
    }
   ],
   "source": [
    "dataset['Age'].isna().sum()"
   ]
  },
  {
   "cell_type": "code",
   "execution_count": 18,
   "metadata": {},
   "outputs": [
    {
     "output_type": "execute_result",
     "data": {
      "text/plain": [
       "erythema                                    False\n",
       "scaling                                     False\n",
       "definite_borders                            False\n",
       "itching                                     False\n",
       "koebner_phenomenon                          False\n",
       "polygonal_papules                           False\n",
       "follicular_papules                          False\n",
       "oral_mucosal_involvement                    False\n",
       "knee and elbow involvement                  False\n",
       "scalp_involvement                           False\n",
       "family_history                              False\n",
       "melanin_incontinence                        False\n",
       "eosinophils_in_the_infiltrate               False\n",
       "PNL_infiltrate                              False\n",
       "fibrosis_of_the_papillary_dermis            False\n",
       "exocytosis                                  False\n",
       "acanthosis                                  False\n",
       "hyperkeratosis                              False\n",
       "parakeratosis                               False\n",
       "clubbing_of_the_rete_ridges                 False\n",
       "elongation_of_the_rete_ridges               False\n",
       "thinning_of_the_suprapapillary_epidermis    False\n",
       "spongiform_pustule                          False\n",
       "munro_microabcess                           False\n",
       "focal_hypergranulosis                       False\n",
       "disappearance_of_the_granular_layer         False\n",
       "vacuolisation_and_damage_of_basal_layer     False\n",
       "spongiosis                                  False\n",
       "saw-tooth_appearance_of_retes               False\n",
       "follicular_horn_plug                        False\n",
       "perifollicular_parakeratosis                False\n",
       "inflammatory_monoluclear_inflitrate         False\n",
       "band-like_infiltrate                        False\n",
       "Age                                          True\n",
       "Disease                                     False\n",
       "dtype: bool"
      ]
     },
     "metadata": {},
     "execution_count": 18
    }
   ],
   "source": [
    "dataset.isna().any()"
   ]
  },
  {
   "cell_type": "code",
   "execution_count": 43,
   "metadata": {},
   "outputs": [
    {
     "output_type": "execute_result",
     "data": {
      "text/plain": [
       "erythema                                    0\n",
       "scaling                                     0\n",
       "definite_borders                            0\n",
       "itching                                     0\n",
       "koebner_phenomenon                          0\n",
       "polygonal_papules                           0\n",
       "follicular_papules                          0\n",
       "oral_mucosal_involvement                    0\n",
       "knee and elbow involvement                  0\n",
       "scalp_involvement                           0\n",
       "family_history                              0\n",
       "melanin_incontinence                        0\n",
       "eosinophils_in_the_infiltrate               0\n",
       "PNL_infiltrate                              0\n",
       "fibrosis_of_the_papillary_dermis            0\n",
       "exocytosis                                  0\n",
       "acanthosis                                  0\n",
       "hyperkeratosis                              0\n",
       "parakeratosis                               0\n",
       "clubbing_of_the_rete_ridges                 0\n",
       "elongation_of_the_rete_ridges               0\n",
       "thinning_of_the_suprapapillary_epidermis    0\n",
       "spongiform_pustule                          0\n",
       "munro_microabcess                           0\n",
       "focal_hypergranulosis                       0\n",
       "disappearance_of_the_granular_layer         0\n",
       "vacuolisation_and_damage_of_basal_layer     0\n",
       "spongiosis                                  0\n",
       "saw-tooth_appearance_of_retes               0\n",
       "follicular_horn_plug                        0\n",
       "perifollicular_parakeratosis                0\n",
       "inflammatory_monoluclear_inflitrate         0\n",
       "band-like_infiltrate                        0\n",
       "Age                                         8\n",
       "Disease                                     0\n",
       "dtype: int64"
      ]
     },
     "metadata": {},
     "execution_count": 43
    }
   ],
   "source": [
    "dataset.isna().sum()"
   ]
  },
  {
   "cell_type": "code",
   "execution_count": 19,
   "metadata": {},
   "outputs": [],
   "source": [
    "#dataset[\"Age\"].fillna( method ='ffill', inplace = True)\n",
    "dataset['Age']=dataset['Age'].fillna(dataset['Age'].median())"
   ]
  },
  {
   "cell_type": "code",
   "execution_count": 21,
   "metadata": {},
   "outputs": [
    {
     "output_type": "execute_result",
     "data": {
      "text/plain": [
       "0"
      ]
     },
     "metadata": {},
     "execution_count": 21
    }
   ],
   "source": [
    "dataset['Age'].isna().sum()"
   ]
  },
  {
   "cell_type": "code",
   "execution_count": 22,
   "metadata": {},
   "outputs": [
    {
     "output_type": "execute_result",
     "data": {
      "text/plain": [
       "erythema                                    0\n",
       "scaling                                     0\n",
       "definite_borders                            0\n",
       "itching                                     0\n",
       "koebner_phenomenon                          0\n",
       "polygonal_papules                           0\n",
       "follicular_papules                          0\n",
       "oral_mucosal_involvement                    0\n",
       "knee and elbow involvement                  0\n",
       "scalp_involvement                           0\n",
       "family_history                              0\n",
       "melanin_incontinence                        0\n",
       "eosinophils_in_the_infiltrate               0\n",
       "PNL_infiltrate                              0\n",
       "fibrosis_of_the_papillary_dermis            0\n",
       "exocytosis                                  0\n",
       "acanthosis                                  0\n",
       "hyperkeratosis                              0\n",
       "parakeratosis                               0\n",
       "clubbing_of_the_rete_ridges                 0\n",
       "elongation_of_the_rete_ridges               0\n",
       "thinning_of_the_suprapapillary_epidermis    0\n",
       "spongiform_pustule                          0\n",
       "munro_microabcess                           0\n",
       "focal_hypergranulosis                       0\n",
       "disappearance_of_the_granular_layer         0\n",
       "vacuolisation_and_damage_of_basal_layer     0\n",
       "spongiosis                                  0\n",
       "saw-tooth_appearance_of_retes               0\n",
       "follicular_horn_plug                        0\n",
       "perifollicular_parakeratosis                0\n",
       "inflammatory_monoluclear_inflitrate         0\n",
       "band-like_infiltrate                        0\n",
       "Age                                         0\n",
       "Disease                                     0\n",
       "dtype: int64"
      ]
     },
     "metadata": {},
     "execution_count": 22
    }
   ],
   "source": [
    "dataset.isna().sum()"
   ]
  },
  {
   "cell_type": "code",
   "execution_count": 49,
   "metadata": {},
   "outputs": [
    {
     "output_type": "execute_result",
     "data": {
      "text/plain": [
       "erythema                                    0\n",
       "scaling                                     0\n",
       "definite_borders                            0\n",
       "itching                                     0\n",
       "koebner_phenomenon                          0\n",
       "polygonal_papules                           0\n",
       "follicular_papules                          0\n",
       "oral_mucosal_involvement                    0\n",
       "knee and elbow involvement                  0\n",
       "scalp_involvement                           0\n",
       "family_history                              0\n",
       "melanin_incontinence                        0\n",
       "eosinophils_in_the_infiltrate               0\n",
       "PNL_infiltrate                              0\n",
       "fibrosis_of_the_papillary_dermis            0\n",
       "exocytosis                                  0\n",
       "acanthosis                                  0\n",
       "hyperkeratosis                              0\n",
       "parakeratosis                               0\n",
       "clubbing_of_the_rete_ridges                 0\n",
       "elongation_of_the_rete_ridges               0\n",
       "thinning_of_the_suprapapillary_epidermis    0\n",
       "spongiform_pustule                          0\n",
       "munro_microabcess                           0\n",
       "focal_hypergranulosis                       0\n",
       "disappearance_of_the_granular_layer         0\n",
       "vacuolisation_and_damage_of_basal_layer     0\n",
       "spongiosis                                  0\n",
       "saw-tooth_appearance_of_retes               0\n",
       "follicular_horn_plug                        0\n",
       "perifollicular_parakeratosis                0\n",
       "inflammatory_monoluclear_inflitrate         0\n",
       "band-like_infiltrate                        0\n",
       "Age                                         0\n",
       "Disease                                     0\n",
       "dtype: int64"
      ]
     },
     "metadata": {},
     "execution_count": 49
    }
   ],
   "source": [
    "dataset.isna().sum()"
   ]
  },
  {
   "cell_type": "code",
   "execution_count": 107,
   "metadata": {},
   "outputs": [
    {
     "output_type": "execute_result",
     "data": {
      "text/plain": [
       "erythema                                    False\n",
       "scaling                                     False\n",
       "definite_borders                            False\n",
       "itching                                     False\n",
       "koebner_phenomenon                          False\n",
       "polygonal_papules                           False\n",
       "follicular_papules                          False\n",
       "oral_mucosal_involvement                    False\n",
       "knee and elbow involvement                  False\n",
       "scalp_involvement                           False\n",
       "family_history                              False\n",
       "melanin_incontinence                        False\n",
       "eosinophils_in_the_infiltrate               False\n",
       "PNL_infiltrate                              False\n",
       "fibrosis_of_the_papillary_dermis            False\n",
       "exocytosis                                  False\n",
       "acanthosis                                  False\n",
       "hyperkeratosis                              False\n",
       "parakeratosis                               False\n",
       "clubbing_of_the_rete_ridges                 False\n",
       "elongation_of_the_rete_ridges               False\n",
       "thinning_of_the_suprapapillary_epidermis    False\n",
       "spongiform_pustule                          False\n",
       "munro_microabcess                           False\n",
       "focal_hypergranulosis                       False\n",
       "disappearance_of_the_granular_layer         False\n",
       "vacuolisation_and_damage_of_basal_layer     False\n",
       "spongiosis                                  False\n",
       "saw-tooth_appearance_of_retes               False\n",
       "follicular_horn_plug                        False\n",
       "perifollicular_parakeratosis                False\n",
       "inflammatory_monoluclear_inflitrate         False\n",
       "band-like_infiltrate                        False\n",
       "Age                                          True\n",
       "Disease                                     False\n",
       "dtype: bool"
      ]
     },
     "metadata": {},
     "execution_count": 107
    }
   ],
   "source": [
    "dataset.isna().any()"
   ]
  },
  {
   "cell_type": "code",
   "execution_count": 27,
   "metadata": {},
   "outputs": [
    {
     "output_type": "execute_result",
     "data": {
      "text/plain": [
       "dtype('O')"
      ]
     },
     "metadata": {},
     "execution_count": 27
    }
   ],
   "source": [
    "dataset['Age'].dtypes"
   ]
  },
  {
   "cell_type": "code",
   "execution_count": 28,
   "metadata": {},
   "outputs": [],
   "source": [
    "dataset['Age'] = dataset['Age'].astype(np.int64)"
   ]
  },
  {
   "cell_type": "code",
   "execution_count": 29,
   "metadata": {},
   "outputs": [
    {
     "output_type": "execute_result",
     "data": {
      "text/plain": [
       "dtype('int64')"
      ]
     },
     "metadata": {},
     "execution_count": 29
    }
   ],
   "source": [
    "dataset['Age'].dtypes"
   ]
  },
  {
   "cell_type": "code",
   "execution_count": 30,
   "metadata": {},
   "outputs": [],
   "source": [
    "dataset.to_csv('dermatology3.csv', index=False)"
   ]
  },
  {
   "cell_type": "code",
   "execution_count": 31,
   "metadata": {},
   "outputs": [
    {
     "output_type": "execute_result",
     "data": {
      "text/plain": [
       "erythema                                    int64\n",
       "scaling                                     int64\n",
       "definite_borders                            int64\n",
       "itching                                     int64\n",
       "koebner_phenomenon                          int64\n",
       "polygonal_papules                           int64\n",
       "follicular_papules                          int64\n",
       "oral_mucosal_involvement                    int64\n",
       "knee and elbow involvement                  int64\n",
       "scalp_involvement                           int64\n",
       "family_history                              int64\n",
       "melanin_incontinence                        int64\n",
       "eosinophils_in_the_infiltrate               int64\n",
       "PNL_infiltrate                              int64\n",
       "fibrosis_of_the_papillary_dermis            int64\n",
       "exocytosis                                  int64\n",
       "acanthosis                                  int64\n",
       "hyperkeratosis                              int64\n",
       "parakeratosis                               int64\n",
       "clubbing_of_the_rete_ridges                 int64\n",
       "elongation_of_the_rete_ridges               int64\n",
       "thinning_of_the_suprapapillary_epidermis    int64\n",
       "spongiform_pustule                          int64\n",
       "munro_microabcess                           int64\n",
       "focal_hypergranulosis                       int64\n",
       "disappearance_of_the_granular_layer         int64\n",
       "vacuolisation_and_damage_of_basal_layer     int64\n",
       "spongiosis                                  int64\n",
       "saw-tooth_appearance_of_retes               int64\n",
       "follicular_horn_plug                        int64\n",
       "perifollicular_parakeratosis                int64\n",
       "inflammatory_monoluclear_inflitrate         int64\n",
       "band-like_infiltrate                        int64\n",
       "Age                                         int64\n",
       "Disease                                     int64\n",
       "dtype: object"
      ]
     },
     "metadata": {},
     "execution_count": 31
    }
   ],
   "source": [
    "df = pd.read_csv('dermatology3.csv')\n",
    "df.dtypes"
   ]
  },
  {
   "cell_type": "code",
   "execution_count": 87,
   "metadata": {},
   "outputs": [],
   "source": [
    "dataset['Disease'] = dataset['Disease'].astype(np.int64)"
   ]
  },
  {
   "cell_type": "code",
   "execution_count": 88,
   "metadata": {},
   "outputs": [
    {
     "output_type": "execute_result",
     "data": {
      "text/plain": [
       "erythema                                     int64\n",
       "scaling                                      int64\n",
       "definite_borders                             int64\n",
       "itching                                      int64\n",
       "koebner_phenomenon                           int64\n",
       "polygonal_papules                            int64\n",
       "follicular_papules                           int64\n",
       "oral_mucosal_involvement                     int64\n",
       "knee and elbow involvement                   int64\n",
       "scalp_involvement                            int64\n",
       "family_history                               int64\n",
       "melanin_incontinence                         int64\n",
       "eosinophils_in_the_infiltrate                int64\n",
       "PNL_infiltrate                               int64\n",
       "fibrosis_of_the_papillary_dermis             int64\n",
       "exocytosis                                   int64\n",
       "acanthosis                                   int64\n",
       "hyperkeratosis                               int64\n",
       "parakeratosis                                int64\n",
       "clubbing_of_the_rete_ridges                  int64\n",
       "elongation_of_the_rete_ridges                int64\n",
       "thinning_of_the_suprapapillary_epidermis     int64\n",
       "spongiform_pustule                           int64\n",
       "munro_microabcess                            int64\n",
       "focal_hypergranulosis                        int64\n",
       "disappearance_of_the_granular_layer          int64\n",
       "vacuolisation_and_damage_of_basal_layer      int64\n",
       "spongiosis                                   int64\n",
       "saw-tooth_appearance_of_retes                int64\n",
       "follicular_horn_plug                         int64\n",
       "perifollicular_parakeratosis                 int64\n",
       "inflammatory_monoluclear_inflitrate          int64\n",
       "band-like_infiltrate                         int64\n",
       "Age                                         object\n",
       "Disease                                      int64\n",
       "dtype: object"
      ]
     },
     "metadata": {},
     "execution_count": 88
    }
   ],
   "source": [
    "dataset.dtypes"
   ]
  },
  {
   "cell_type": "code",
   "execution_count": 36,
   "metadata": {},
   "outputs": [
    {
     "output_type": "stream",
     "name": "stdout",
     "text": [
      "[6 3 5 1 1 3 4 1 3 5 4 4 2 5 1 5 4 4 1 1 2 6 2 5 4 2 3 1 3 1 2 1 3 1 2 1 3\n 3 2 1 3 1 3 2 4 5 3 5 4 1 3 1 5 2 4 1 2 5 4 2 4 1 4 4 1 2 1 1 2 1 5 4 3]\n"
     ]
    }
   ],
   "source": [
    "# split dataset into train , test and validation sets\n",
    "\n",
    "array = dataset.values\n",
    "X = array[:, 0:-1] # all rows taken, all columns except last one\n",
    "Y = array[:, -1] # all rows takne, only last column taken\n",
    "from sklearn.model_selection import train_test_split\n",
    "x_train,x_test,y_train,y_test=train_test_split(X,Y,test_size=0.2, random_state=7)\n",
    "##############################\n",
    "from sklearn.preprocessing import StandardScaler\n",
    "sc=StandardScaler()\n",
    "sc.fit(x_train)\n",
    "x_train_sc=sc.transform(x_train)\n",
    "x_test_sc=sc.transform(x_test)\n",
    "#print(x_train[:5])\n",
    "#print(x_train_sc[:5])\n",
    "################################\n",
    "from sklearn.neighbors import KNeighborsClassifier\n",
    "clf=KNeighborsClassifier(n_neighbors=5)\n",
    "clf.fit(x_train_sc,y_train)\n",
    "y_pred=clf.predict(x_test_sc)\n",
    "print(y_pred)\n",
    "# Y = array\n",
    "#X_train, X_test, Y_train, Y_test = model_selection.train_test_split(X, Y, test_size=0.2, random_state=7) # 20 percent test dataset"
   ]
  },
  {
   "cell_type": "code",
   "execution_count": 39,
   "metadata": {},
   "outputs": [
    {
     "output_type": "stream",
     "name": "stdout",
     "text": [
      "[[21  0  0  0  0  0]\n [ 0 12  0  3  0  0]\n [ 0  0 13  0  0  0]\n [ 0  1  0 11  0  0]\n [ 0  0  0  0 10  0]\n [ 0  0  0  0  0  2]]\n              precision    recall  f1-score   support\n\n           1       1.00      1.00      1.00        21\n           2       0.92      0.80      0.86        15\n           3       1.00      1.00      1.00        13\n           4       0.79      0.92      0.85        12\n           5       1.00      1.00      1.00        10\n           6       1.00      1.00      1.00         2\n\n    accuracy                           0.95        73\n   macro avg       0.95      0.95      0.95        73\nweighted avg       0.95      0.95      0.95        73\n\nAccuracy score 0.95\n"
     ]
    }
   ],
   "source": [
    "from sklearn.metrics import confusion_matrix,classification_report,accuracy_score\n",
    "print(confusion_matrix(y_test,y_pred))\n",
    "print(classification_report(y_test,y_pred))\n",
    "print('Accuracy score %.2f'%accuracy_score(y_test,y_pred))"
   ]
  },
  {
   "cell_type": "code",
   "execution_count": 40,
   "metadata": {},
   "outputs": [
    {
     "output_type": "stream",
     "name": "stdout",
     "text": [
      "[6 3 5 1 1 3 2 1 3 5 4 4 2 5 1 5 4 2 1 1 2 6 2 5 4 2 3 1 3 1 4 1 3 1 2 1 3\n 3 2 1 3 1 3 2 4 5 3 5 4 1 3 1 5 2 4 1 2 5 4 2 4 1 4 4 1 2 1 1 2 1 5 4 3]\n"
     ]
    }
   ],
   "source": [
    "from sklearn.svm import  SVC\n",
    "svm=SVC(kernel='linear',C=1,random_state=0)\n",
    "svm.fit(x_train_sc,y_train)\n",
    "y_pred=svm.predict(x_test_sc)\n",
    "print(y_pred)"
   ]
  },
  {
   "cell_type": "code",
   "execution_count": 41,
   "metadata": {},
   "outputs": [
    {
     "output_type": "stream",
     "name": "stdout",
     "text": [
      "misclassified samples:1\n"
     ]
    }
   ],
   "source": [
    "print('misclassified samples:%d'%(y_test!=y_pred).sum())\n"
   ]
  },
  {
   "cell_type": "code",
   "execution_count": 42,
   "metadata": {},
   "outputs": [
    {
     "output_type": "stream",
     "name": "stdout",
     "text": [
      "[[21  0  0  0  0  0]\n [ 0 14  0  1  0  0]\n [ 0  0 13  0  0  0]\n [ 0  0  0 12  0  0]\n [ 0  0  0  0 10  0]\n [ 0  0  0  0  0  2]]\n              precision    recall  f1-score   support\n\n           1       1.00      1.00      1.00        21\n           2       1.00      0.93      0.97        15\n           3       1.00      1.00      1.00        13\n           4       0.92      1.00      0.96        12\n           5       1.00      1.00      1.00        10\n           6       1.00      1.00      1.00         2\n\n    accuracy                           0.99        73\n   macro avg       0.99      0.99      0.99        73\nweighted avg       0.99      0.99      0.99        73\n\nAccuracy:0.99\n"
     ]
    }
   ],
   "source": [
    "print(confusion_matrix(y_test,y_pred))\n",
    "print(classification_report(y_test,y_pred))\n",
    "print('Accuracy:%.2f'%accuracy_score(y_test,y_pred))"
   ]
  },
  {
   "cell_type": "code",
   "execution_count": 44,
   "metadata": {},
   "outputs": [
    {
     "output_type": "stream",
     "name": "stdout",
     "text": [
      "[[21  0  0  0  0  0]\n [ 0 14  0  1  0  0]\n [ 0  0 13  0  0  0]\n [ 0  0  0 12  0  0]\n [ 0  0  0  0 10  0]\n [ 0  0  0  0  0  2]]\n              precision    recall  f1-score   support\n\n           1       1.00      1.00      1.00        21\n           2       1.00      0.93      0.97        15\n           3       1.00      1.00      1.00        13\n           4       0.92      1.00      0.96        12\n           5       1.00      1.00      1.00        10\n           6       1.00      1.00      1.00         2\n\n    accuracy                           0.99        73\n   macro avg       0.99      0.99      0.99        73\nweighted avg       0.99      0.99      0.99        73\n\nAccuracy:0.99\n"
     ]
    }
   ],
   "source": [
    "from sklearn.tree import DecisionTreeClassifier\n",
    "\n",
    "dtc = DecisionTreeClassifier(random_state=1)\n",
    "dtc.fit(x_train_sc,y_train)\n",
    "dtc.score(x_test_sc,y_test)\n",
    "print(confusion_matrix(y_test,y_pred))\n",
    "print(classification_report(y_test,y_pred))\n",
    "print('Accuracy:%.2f'%accuracy_score(y_test,y_pred))"
   ]
  },
  {
   "cell_type": "code",
   "execution_count": 45,
   "metadata": {},
   "outputs": [
    {
     "output_type": "stream",
     "name": "stdout",
     "text": [
      "misclassified samples:1\n"
     ]
    }
   ],
   "source": [
    "print('misclassified samples:%d'%(y_test!=y_pred).sum())"
   ]
  },
  {
   "cell_type": "code",
   "execution_count": 46,
   "metadata": {},
   "outputs": [
    {
     "output_type": "execute_result",
     "data": {
      "text/plain": [
       "       0.370701   \n",
       "koebner_phenomenon                                                       0.375926   \n",
       "polygonal_papules                                                        0.911572   \n",
       "follicular_papules                                                      -0.140404   \n",
       "oral_mucosal_involvement                                                 0.887487   \n",
       "knee and elbow involvement                                              -0.281784   \n",
       "scalp_involvement                                                       -0.253429   \n",
       "family_history                                                          -0.156067   \n",
       "melanin_incontinence                                                     0.941623   \n",
       "eosinophils_in_the_infiltrate                                            0.039496   \n",
       "PNL_infiltrate                                                          -0.318750   \n",
       "fibrosis_of_the_papillary_dermis                                        -0.169175   \n",
       "exocytosis                                                               0.383551   \n",
       "acanthosis                                                               0.130193   \n",
       "hyperkeratosis                                                          -0.164269   \n",
       "parakeratosis                                                           -0.034364   \n",
       "clubbing_of_the_rete_ridges                                             -0.296671   \n",
       "elongation_of_the_rete_ridges                                           -0.405635   \n",
       "thinning_of_the_suprapapillary_epidermis                                -0.291752   \n",
       "spongiform_pustule                                                      -0.211549   \n",
       "munro_microabcess                                                       -0.222404   \n",
       "focal_hypergranulosis                                                    0.909596   \n",
       "disappearance_of_the_granular_layer                                     -0.145341   \n",
       "vacuolisation_and_damage_of_basal_layer                                  1.000000   \n",
       "spongiosis                                                               0.055340   \n",
       "saw-tooth_appearance_of_retes                                            0.938359   \n",
       "follicular_horn_plug                                                    -0.091675   \n",
       "perifollicular_parakeratosis                                            -0.112860   \n",
       "inflammatory_monoluclear_inflitrate                                      0.253318   \n",
       "band-like_infiltrate                                                     0.937521   \n",
       "Age                                                                      0.129198   \n",
       "Disease                                                                  0.054779   \n",
       "\n",
       "                                          spongiosis  \\\n",
       "erythema                                    0.023084   \n",
       "scaling                                     0.010748   \n",
       "definite_borders                           -0.249164   \n",
       "itching                                     0.010451   \n",
       "koebner_phenomenon                         -0.002478   \n",
       "polygonal_papules                           0.082789   \n",
       "follicular_papules                         -0.012057   \n",
       "oral_mucosal_involvement                    0.123183   \n",
       "knee and elbow involvement                 -0.417120   \n",
       "scalp_involvement                          -0.419951   \n",
       "family_history                             -0.151192   \n",
       "melanin_incontinence                        0.060781   \n",
       "eosinophils_in_the_infiltrate               0.157650   \n",
       "PNL_infiltrate                             -0.124273   \n",
       "fibrosis_of_the_papillary_dermis           -0.181568   \n",
       "exocytosis                                  0.568202   \n",
       "acanthosis                                 -0.071201   \n",
       "hyperkeratosis                             -0.250894   \n",
       "parakeratosis                              -0.224684   \n",
       "clubbing_of_the_rete_ridges                -0.505705   \n",
       "elongation_of_the_rete_ridges              -0.583316   \n",
       "thinning_of_the_suprapapillary_epidermis   -0.508326   \n",
       "spongiform_pustule                         -0.284701   \n",
       "munro_microabcess                          -0.385007   \n",
       "focal_hypergranulosis                       0.050174   \n",
       "disappearance_of_the_granular_layer        -0.253924   \n",
       "vacuolisation_and_damage_of_basal_layer     0.055340   \n",
       "spongiosis                                  1.000000   \n",
       "saw-tooth_appearance_of_retes               0.067972   \n",
       "follicular_horn_plug                        0.059355   \n",
       "perifollicular_parakeratosis                0.070691   \n",
       "inflammatory_monoluclear_inflitrate         0.062170   \n",
       "band-like_infiltrate                        0.038695   \n",
       "Age                                        -0.090465   \n",
       "Disease                                     0.216956   \n",
       "\n",
       "                                          saw-tooth_appearance_of_retes  \\\n",
       "erythema                                                      -0.005915   \n",
       "scaling                                                       -0.114134   \n",
       "definite_borders                                               0.273529   \n",
       "itching                                                        0.379251   \n",
       "koebner_phenomenon                                             0.381149   \n",
       "polygonal_papules                                              0.895043   \n",
       "follicular_papules                                            -0.139582   \n",
       "oral_mucosal_involvement                                       0.875136   \n",
       "knee and elbow involvement                                    -0.280029   \n",
       "scalp_involvement                                             -0.258154   \n",
       "family_history                                                -0.163647   \n",
       "melanin_incontinence                                           0.900172   \n",
       "eosinophils_in_the_infiltrate                                  0.040475   \n",
       "PNL_infiltrate                                                -0.316862   \n",
       "fibrosis_of_the_papillary_dermis                              -0.161333   \n",
       "exocytosis                                                     0.387159   \n",
       "acanthosis                                                     0.097804   \n",
       "hyperkeratosis                                                -0.139521   \n",
       "parakeratosis                                                 -0.039723   \n",
       "clubbing_of_the_rete_ridges                                   -0.300336   \n",
       "elongation_of_the_rete_ridges                                 -0.408174   \n",
       "thinning_of_the_suprapapillary_epidermis                      -0.292802   \n",
       "spongiform_pustule                                            -0.210310   \n",
       "munro_microabcess                                             -0.202158   \n",
       "focal_hypergranulosis                                          0.884006   \n",
       "disappearance_of_the_granular_layer                           -0.133853   \n",
       "vacuolisation_and_damage_of_basal_layer                        0.938359   \n",
       "spongiosis                                                     0.067972   \n",
       "saw-tooth_appearance_of_retes                                  1.000000   \n",
       "follicular_horn_plug                                          -0.091023   \n",
       "perifollicular_parakeratosis                                  -0.112199   \n",
       "inflammatory_monoluclear_inflitrate                            0.248870   \n",
       "band-like_infiltrate                                           0.928703   \n",
       "Age                                                            0.113125   \n",
       "Disease                                                        0.059828   \n",
       "\n",
       "                                          follicular_horn_plug  \\\n",
       "erythema                                             -0.005515   \n",
       "scaling                                              -0.010335   \n",
       "definite_borders                                     -0.087689   \n",
       "itching                                              -0.175467   \n",
       "koebner_phenomenon                                   -0.148507   \n",
       "polygonal_papules                                    -0.095809   \n",
       "follicular_papules                                    0.785247   \n",
       "oral_mucosal_involvement                             -0.082916   \n",
       "knee and elbow involvement                            0.233218   \n",
       "scalp_involvement                                    -0.052285   \n",
       "family_history                                        0.242138   \n",
       "melanin_incontinence                                 -0.093795   \n",
       "eosinophils_in_the_infiltrate                        -0.078444   \n",
       "PNL_infiltrate                                       -0.118097   \n",
       "fibrosis_of_the_papillary_dermis                     -0.084191   \n",
       "exocytosis                                            0.067140   \n",
       "acanthosis                                           -0.028465   \n",
       "hyperkeratosis                                        0.095727   \n",
       "parakeratosis                                         0.005719   \n",
       "clubbing_of_the_rete_ridges                          -0.128416   \n",
       "elongation_of_the_rete_ridges                        -0.177047   \n",
       "thinning_of_the_suprapapillary_epidermis             -0.136157   \n",
       "spongiform_pustule                                   -0.092948   \n",
       "munro_microabcess                                    -0.110901   \n",
       "focal_hypergranulosis                                -0.071576   \n",
       "disappearance_of_the_granular_layer                  -0.124525   \n",
       "vacuolisation_and_damage_of_basal_layer              -0.091675   \n",
       "spongiosis                                            0.059355   \n",
       "saw-tooth_appearance_of_retes                        -0.091023   \n",
       "follicular_horn_plug                                  1.000000   \n",
       "perifollicular_parakeratosis                          0.928918   \n",
       "inflammatory_monoluclear_inflitrate                  -0.058780   \n",
       "band-like_infiltrate                                 -0.099779   \n",
       "Age                                                  -0.356013   \n",
       "Disease                                               0.431835   \n",
       "\n",
       "                                          perifollicular_parakeratosis  \\\n",
       "erythema                                                      0.009474   \n",
       "scaling                                                      -0.010949   \n",
       "definite_borders                                             -0.125562   \n",
       "itching                                                      -0.183683   \n",
       "koebner_phenomenon                                           -0.164937   \n",
       "polygonal_papules                                            -0.110547   \n",
       "follicular_papules                                            0.844903   \n",
       "oral_mucosal_involvement                                     -0.106756   \n",
       "knee and elbow involvement                                    0.257988   \n",
       "scalp_involvement                                            -0.017731   \n",
       "family_history                                                0.231544   \n",
       "melanin_incontinence                                         -0.109798   \n",
       "eosinophils_in_the_infiltrate                                -0.079909   \n",
       "PNL_infiltrate                                               -0.110164   \n",
       "fibrosis_of_the_papillary_dermis                             -0.093028   \n",
       "exocytosis                                                    0.059550   \n",
       "acanthosis                                                   -0.079935   \n",
       "hyperkeratosis                                                0.087374   \n",
       "parakeratosis                                                 0.010340   \n",
       "clubbing_of_the_rete_ridges                                  -0.132489   \n",
       "elongation_of_the_rete_ridges                                -0.187215   \n",
       "thinning_of_the_suprapapillary_epidermis                     -0.144689   \n",
       "spongiform_pustule                                           -0.087201   \n",
       "munro_microabcess                                            -0.112971   \n",
       "focal_hypergranulosis                                        -0.096193   \n",
       "disappearance_of_the_granular_layer                          -0.126850   \n",
       "vacuolisation_and_damage_of_basal_layer                      -0.112860   \n",
       "spongiosis                                                    0.070691   \n",
       "saw-tooth_appearance_of_retes                                -0.112199   \n",
       "follicular_horn_plug                                          0.928918   \n",
       "perifollicular_parakeratosis                                  1.000000   \n",
       "inflammatory_monoluclear_inflitrate                          -0.073314   \n",
       "band-like_infiltrate                                         -0.113386   \n",
       "Age                                                          -0.391826   \n",
       "Disease                                                       0.456894   \n",
       "\n",
       "                                          inflammatory_monoluclear_inflitrate  \\\n",
       "erythema                                                             0.075570   \n",
       "scaling                                                             -0.010041   \n",
       "definite_borders                                                     0.106925   \n",
       "itching                                                              0.067809   \n",
       "koebner_phenomenon                                                   0.081283   \n",
       "polygonal_papules                                                    0.227406   \n",
       "follicular_papules                                                  -0.085999   \n",
       "oral_mucosal_involvement                                             0.250015   \n",
       "knee and elbow involvement                                          -0.067483   \n",
       "scalp_involvement                                                    0.033354   \n",
       "family_history                                                      -0.090569   \n",
       "melanin_incontinence                                                 0.258526   \n",
       "eosinophils_in_the_infiltrate                                       -0.048603   \n",
       "PNL_infiltrate                                                      -0.086743   \n",
       "fibrosis_of_the_papillary_dermis                                    -0.025817   \n",
       "exocytosis                                                           0.149321   \n",
       "acanthosis                                                           0.132097   \n",
       "hyperkeratosis                                                      -0.118018   \n",
       "parakeratosis                                                       -0.012100   \n",
       "clubbing_of_the_rete_ridges                                          0.007002   \n",
       "elongation_of_the_rete_ridges                                        0.015425   \n",
       "thinning_of_the_suprapapillary_epidermis                             0.027447   \n",
       "spongiform_pustule                                                   0.063175   \n",
       "munro_microabcess                                                   -0.012492   \n",
       "focal_hypergranulosis                                                0.231231   \n",
       "disappearance_of_the_granular_layer                                  0.080269   \n",
       "vacuolisation_and_damage_of_basal_layer                              0.253318   \n",
       "spongiosis                                                           0.062170   \n",
       "saw-tooth_appearance_of_retes                                        0.248870   \n",
       "follicular_horn_plug                                                -0.058780   \n",
       "perifollicular_parakeratosis                                        -0.073314   \n",
       "inflammatory_monoluclear_inflitrate                                  1.000000   \n",
       "band-like_infiltrate                                                 0.234919   \n",
       "Age                                                                  0.083582   \n",
       "Disease                                                             -0.022100   \n",
       "\n",
       "                                          band-like_infiltrate       Age  \\\n",
       "erythema                                             -0.007099 -0.003382   \n",
       "scaling                                              -0.131738  0.016329   \n",
       "definite_borders                                      0.281452  0.144544   \n",
       "itching                                               0.389908  0.041879   \n",
       "koebner_phenomenon                                    0.382270  0.083200   \n",
       "polygonal_papules                                     0.905763  0.097759   \n",
       "follicular_papules                                   -0.134335 -0.370265   \n",
       "oral_mucosal_involvement                              0.892277  0.112329   \n",
       "knee and elbow involvement                           -0.276325 -0.078791   \n",
       "scalp_involvement                                    -0.250965  0.039395   \n",
       "family_history                                       -0.168636 -0.090578   \n",
       "melanin_incontinence                                  0.916797  0.121646   \n",
       "eosinophils_in_the_infiltrate                         0.027902  0.046618   \n",
       "PNL_infiltrate                                       -0.320007  0.052614   \n",
       "fibrosis_of_the_papillary_dermis                     -0.172607  0.030661   \n",
       "exocytosis                                            0.384931 -0.045698   \n",
       "acanthosis                                            0.086601  0.045116   \n",
       "hyperkeratosis                                       -0.145231 -0.012634   \n",
       "parakeratosis                                        -0.069086  0.040944   \n",
       "clubbing_of_the_rete_ridges                          -0.303010  0.125601   \n",
       "elongation_of_the_rete_ridges                        -0.418133  0.125351   \n",
       "thinning_of_the_suprapapillary_epidermis             -0.297153  0.133226   \n",
       "spongiform_pustule                                   -0.222040  0.084199   \n",
       "munro_microabcess                                    -0.198946  0.091874   \n",
       "focal_hypergranulosis                                 0.904460  0.101076   \n",
       "disappearance_of_the_granular_layer                  -0.142027  0.145447   \n",
       "vacuolisation_and_damage_of_basal_layer               0.937521  0.129198   \n",
       "spongiosis                                            0.038695 -0.090465   \n",
       "saw-tooth_appearance_of_retes                         0.928703  0.113125   \n",
       "follicular_horn_plug                                 -0.099779 -0.356013   \n",
       "perifollicular_parakeratosis                         -0.113386 -0.391826   \n",
       "inflammatory_monoluclear_inflitrate                   0.234919  0.083582   \n",
       "band-like_infiltrate                                  1.000000  0.105856   \n",
       "Age                                                   0.105856  1.000000   \n",
       "Disease                                               0.056612 -0.250133   \n",
       "\n",
       "                                           Disease  \n",
       "erythema                                 -0.335800  \n",
       "scaling                                  -0.468502  \n",
       "definite_borders                         -0.396057  \n",
       "itching                                   0.056936  \n",
       "koebner_phenomenon                       -0.092382  \n",
       "polygonal_papules                         0.057176  \n",
       "follicular_papules                        0.477632  \n",
       "oral_mucosal_involvement                  0.055215  \n",
       "knee and elbow involvement               -0.382977  \n",
       "scalp_involvement                        -0.534427  \n",
       "family_history                           -0.144983  \n",
       "melanin_incontinence                      0.056789  \n",
       "eosinophils_in_the_infiltrate            -0.062822  \n",
       "PNL_infiltrate                           -0.551652  \n",
       "fibrosis_of_the_papillary_dermis          0.526728  \n",
       "exocytosis                                0.286431  \n",
       "acanthosis                               -0.079714  \n",
       "hyperkeratosis                           -0.055447  \n",
       "parakeratosis                            -0.423982  \n",
       "clubbing_of_the_rete_ridges              -0.670244  \n",
       "elongation_of_the_rete_ridges            -0.359587  \n",
       "thinning_of_the_suprapapillary_epidermis -0.686302  \n",
       "spongiform_pustule                       -0.450291  \n",
       "munro_microabcess                        -0.522000  \n",
       "focal_hypergranulosis                     0.062642  \n",
       "disappearance_of_the_granular_layer      -0.428408  \n",
       "vacuolisation_and_damage_of_basal_layer   0.054779  \n",
       "spongiosis                                0.216956  \n",
       "saw-tooth_appearance_of_retes             0.059828  \n",
       "follicular_horn_plug                      0.431835  \n",
       "perifollicular_parakeratosis              0.456894  \n",
       "inflammatory_monoluclear_inflitrate      -0.022100  \n",
       "band-like_infiltrate                      0.056612  \n",
       "Age                                      -0.250133  \n",
       "Disease                                   1.000000  \n",
       "\n",
       "[35 rows x 35 columns]"
      ],
      "text/html": "<div>\n<style scoped>\n    .dataframe tbody tr th:only-of-type {\n        vertical-align: middle;\n    }\n\n    .dataframe tbody tr th {\n        vertical-align: top;\n    }\n\n    .dataframe thead th {\n        text-align: right;\n    }\n</style>\n<table border=\"1\" class=\"dataframe\">\n  <thead>\n    <tr style=\"text-align: right;\">\n      <th></th>\n      <th>erythema</th>\n      <th>scaling</th>\n      <th>definite_borders</th>\n      <th>itching</th>\n      <th>koebner_phenomenon</th>\n      <th>polygonal_papules</th>\n      <th>follicular_papules</th>\n      <th>oral_mucosal_involvement</th>\n      <th>knee and elbow involvement</th>\n      <th>scalp_involvement</th>\n      <th>...</th>\n      <th>disappearance_of_the_granular_layer</th>\n      <th>vacuolisation_and_damage_of_basal_layer</th>\n      <th>spongiosis</th>\n      <th>saw-tooth_appearance_of_retes</th>\n      <th>follicular_horn_plug</th>\n      <th>perifollicular_parakeratosis</th>\n      <th>inflammatory_monoluclear_inflitrate</th>\n      <th>band-like_infiltrate</th>\n      <th>Age</th>\n      <th>Disease</th>\n    </tr>\n  </thead>\n  <tbody>\n    <tr>\n      <td>erythema</td>\n      <td>1.000000</td>\n      <td>0.435607</td>\n      <td>0.260654</td>\n      <td>-0.047353</td>\n      <td>0.000498</td>\n      <td>0.033449</td>\n      <td>-0.109647</td>\n      <td>-0.026946</td>\n      <td>0.141151</td>\n      <td>0.186609</td>\n      <td>...</td>\n      <td>0.159014</td>\n      <td>0.002425</td>\n      <td>0.023084</td>\n      <td>-0.005915</td>\n      <td>-0.005515</td>\n      <td>0.009474</td>\n      <td>0.075570</td>\n      <td>-0.007099</td>\n      <td>-0.003382</td>\n      <td>-0.335800</td>\n    </tr>\n    <tr>\n      <td>scaling</td>\n      <td>0.435607</td>\n      <td>1.000000</td>\n      <td>0.360846</td>\n      <td>-0.085602</td>\n      <td>-0.010024</td>\n      <td>-0.074691</td>\n      <td>-0.092188</td>\n      <td>-0.082639</td>\n      <td>0.298182</td>\n      <td>0.302209</td>\n      <td>...</td>\n      <td>0.212024</td>\n      <td>-0.109187</td>\n      <td>0.010748</td>\n      <td>-0.114134</td>\n      <td>-0.010335</td>\n      <td>-0.010949</td>\n      <td>-0.010041</td>\n      <td>-0.131738</td>\n      <td>0.016329</td>\n      <td>-0.468502</td>\n    </tr>\n    <tr>\n      <td>definite_borders</td>\n      <td>0.260654</td>\n      <td>0.360846</td>\n      <td>1.000000</td>\n      <td>-0.056217</td>\n      <td>0.239187</td>\n      <td>0.326968</td>\n      <td>-0.168728</td>\n      <td>0.285790</td>\n      <td>0.305436</td>\n      <td>0.267366</td>\n      <td>...</td>\n      <td>0.353809</td>\n      <td>0.297138</td>\n      <td>-0.249164</td>\n      <td>0.273529</td>\n      <td>-0.087689</td>\n      <td>-0.125562</td>\n      <td>0.106925</td>\n      <td>0.281452</td>\n      <td>0.144544</td>\n      <td>-0.396057</td>\n    </tr>\n    <tr>\n      <td>itching</td>\n      <td>-0.047353</td>\n      <td>-0.085602</td>\n      <td>-0.056217</td>\n      <td>1.000000</td>\n      <td>0.271582</td>\n      <td>0.412835</td>\n      <td>-0.144099</td>\n      <td>0.362073</td>\n      <td>-0.302110</td>\n      <td>-0.153884</td>\n      <td>...</td>\n      <td>-0.191183</td>\n      <td>0.370701</td>\n      <td>0.010451</td>\n      <td>0.379251</td>\n      <td>-0.175467</td>\n      <td>-0.183683</td>\n      <td>0.067809</td>\n      <td>0.389908</td>\n      <td>0.041879</td>\n      <td>0.056936</td>\n    </tr>\n    <tr>\n      <td>koebner_phenomenon</td>\n      <td>0.000498</td>\n      <td>-0.010024</td>\n      <td>0.239187</td>\n      <td>0.271582</td>\n      <td>1.000000</td>\n      <td>0.393592</td>\n      <td>-0.173438</td>\n      <td>0.392060</td>\n      <td>-0.065678</td>\n      <td>0.014118</td>\n      <td>...</td>\n      <td>0.003301</td>\n      <td>0.375926</td>\n      <td>-0.002478</td>\n      <td>0.381149</td>\n      <td>-0.148507</td>\n      <td>-0.164937</td>\n      <td>0.081283</td>\n      <td>0.382270</td>\n      <td>0.083200</td>\n      <td>-0.092382</td>\n    </tr>\n    <tr>\n      <td>polygonal_papules</td>\n      <td>0.033449</td>\n      <td>-0.074691</td>\n      <td>0.326968</td>\n      <td>0.412835</td>\n      <td>0.393592</td>\n      <td>1.000000</td>\n      <td>-0.137526</td>\n      <td>0.865064</td>\n      <td>-0.275696</td>\n      <td>-0.254163</td>\n      <td>...</td>\n      <td>-0.120473</td>\n      <td>0.911572</td>\n      <td>0.082789</td>\n      <td>0.895043</td>\n      <td>-0.095809</td>\n      <td>-0.110547</td>\n      <td>0.227406</td>\n      <td>0.905763</td>\n      <td>0.097759</td>\n      <td>0.057176</td>\n    </tr>\n    <tr>\n      <td>follicular_papules</td>\n      <td>-0.109647</td>\n      <td>-0.092188</td>\n      <td>-0.168728</td>\n      <td>-0.144099</td>\n      <td>-0.173438</td>\n      <td>-0.137526</td>\n      <td>1.000000</td>\n      <td>-0.132810</td>\n      <td>0.222643</td>\n      <td>-0.003997</td>\n      <td>...</td>\n      <td>-0.157808</td>\n      <td>-0.140404</td>\n      <td>-0.012057</td>\n      <td>-0.139582</td>\n      <td>0.785247</td>\n      <td>0.844903</td>\n      <td>-0.085999</td>\n      <td>-0.134335</td>\n      <td>-0.370265</td>\n      <td>0.477632</td>\n    </tr>\n    <tr>\n      <td>oral_mucosal_involvement</td>\n      <td>-0.026946</td>\n      <td>-0.082639</td>\n      <td>0.285790</td>\n      <td>0.362073</td>\n      <td>0.392060</td>\n      <td>0.865064</td>\n      <td>-0.132810</td>\n      <td>1.000000</td>\n      <td>-0.283119</td>\n      <td>-0.260716</td>\n      <td>...</td>\n      <td>-0.107444</td>\n      <td>0.887487</td>\n      <td>0.123183</td>\n      <td>0.875136</td>\n      <td>-0.082916</td>\n      <td>-0.106756</td>\n      <td>0.250015</td>\n      <td>0.892277</td>\n      <td>0.112329</td>\n      <td>0.055215</td>\n    </tr>\n    <tr>\n      <td>knee and elbow involvement</td>\n      <td>0.141151</td>\n      <td>0.298182</td>\n      <td>0.305436</td>\n      <td>-0.302110</td>\n      <td>-0.065678</td>\n      <td>-0.275696</td>\n      <td>0.222643</td>\n      <td>-0.283119</td>\n      <td>1.000000</td>\n      <td>0.660260</td>\n      <td>...</td>\n      <td>0.482614</td>\n      <td>-0.281784</td>\n      <td>-0.417120</td>\n      <td>-0.280029</td>\n      <td>0.233218</td>\n      <td>0.257988</td>\n      <td>-0.067483</td>\n      <td>-0.276325</td>\n      <td>-0.078791</td>\n      <td>-0.382977</td>\n    </tr>\n    <tr>\n      <td>scalp_involvement</td>\n      <td>0.186609</td>\n      <td>0.302209</td>\n      <td>0.267366</td>\n      <td>-0.153884</td>\n      <td>0.014118</td>\n      <td>-0.254163</td>\n      <td>-0.003997</td>\n      <td>-0.260716</td>\n      <td>0.660260</td>\n      <td>1.000000</td>\n      <td>...</td>\n      <td>0.488372</td>\n      <td>-0.253429</td>\n      <td>-0.419951</td>\n      <td>-0.258154</td>\n      <td>-0.052285</td>\n      <td>-0.017731</td>\n      <td>0.033354</td>\n      <td>-0.250965</td>\n      <td>0.039395</td>\n      <td>-0.534427</td>\n    </tr>\n    <tr>\n      <td>family_history</td>\n      <td>0.171989</td>\n      <td>0.181852</td>\n      <td>0.114550</td>\n      <td>-0.135533</td>\n      <td>-0.084046</td>\n      <td>-0.152404</td>\n      <td>0.192623</td>\n      <td>-0.152368</td>\n      <td>0.342462</td>\n      <td>0.292321</td>\n      <td>...</td>\n      <td>0.196462</td>\n      <td>-0.156067</td>\n      <td>-0.151192</td>\n      <td>-0.163647</td>\n      <td>0.242138</td>\n      <td>0.231544</td>\n      <td>-0.090569</td>\n      <td>-0.168636</td>\n      <td>-0.090578</td>\n      <td>-0.144983</td>\n    </tr>\n    <tr>\n      <td>melanin_incontinence</td>\n      <td>0.042008</td>\n      <td>-0.074514</td>\n      <td>0.310555</td>\n      <td>0.362174</td>\n      <td>0.385167</td>\n      <td>0.906988</td>\n      <td>-0.136595</td>\n      <td>0.869156</td>\n      <td>-0.271951</td>\n      <td>-0.257704</td>\n      <td>...</td>\n      <td>-0.138234</td>\n      <td>0.941623</td>\n      <td>0.060781</td>\n      <td>0.900172</td>\n      <td>-0.093795</td>\n      <td>-0.109798</td>\n      <td>0.258526</td>\n      <td>0.916797</td>\n      <td>0.121646</td>\n      <td>0.056789</td>\n    </tr>\n    <tr>\n      <td>eosinophils_in_the_infiltrate</td>\n      <td>0.075146</td>\n      <td>0.042494</td>\n      <td>-0.134167</td>\n      <td>0.097059</td>\n      <td>-0.047053</td>\n      <td>0.028402</td>\n      <td>-0.087748</td>\n      <td>0.013707</td>\n      <td>-0.198378</td>\n      <td>-0.077537</td>\n      <td>...</td>\n      <td>-0.167430</td>\n      <td>0.039496</td>\n      <td>0.157650</td>\n      <td>0.040475</td>\n      <td>-0.078444</td>\n      <td>-0.079909</td>\n      <td>-0.048603</td>\n      <td>0.027902</td>\n      <td>0.046618</td>\n      <td>-0.062822</td>\n    </tr>\n    <tr>\n      <td>PNL_infiltrate</td>\n      <td>0.224048</td>\n      <td>0.283231</td>\n      <td>0.038365</td>\n      <td>-0.143139</td>\n      <td>-0.170882</td>\n      <td>-0.315667</td>\n      <td>-0.120354</td>\n      <td>-0.304841</td>\n      <td>0.332706</td>\n      <td>0.352404</td>\n      <td>...</td>\n      <td>0.166620</td>\n      <td>-0.318750</td>\n      <td>-0.124273</td>\n      <td>-0.316862</td>\n      <td>-0.118097</td>\n      <td>-0.110164</td>\n      <td>-0.086743</td>\n      <td>-0.320007</td>\n      <td>0.052614</td>\n      <td>-0.551652</td>\n    </tr>\n    <tr>\n      <td>fibrosis_of_the_papillary_dermis</td>\n      <td>-0.354787</td>\n      <td>-0.383395</td>\n      <td>-0.277433</td>\n      <td>0.205211</td>\n      <td>-0.248425</td>\n      <td>-0.158634</td>\n      <td>0.019389</td>\n      <td>-0.140605</td>\n      <td>-0.227100</td>\n      <td>-0.227189</td>\n      <td>...</td>\n      <td>-0.197976</td>\n      <td>-0.169175</td>\n      <td>-0.181568</td>\n      <td>-0.161333</td>\n      <td>-0.084191</td>\n      <td>-0.093028</td>\n      <td>-0.025817</td>\n      <td>-0.172607</td>\n      <td>0.030661</td>\n      <td>0.526728</td>\n    </tr>\n    <tr>\n      <td>exocytosis</td>\n      <td>0.022048</td>\n      <td>-0.112344</td>\n      <td>-0.199864</td>\n      <td>0.210223</td>\n      <td>0.149341</td>\n      <td>0.382805</td>\n      <td>-0.009714</td>\n      <td>0.363164</td>\n      <td>-0.533249</td>\n      <td>-0.531130</td>\n      <td>...</td>\n      <td>-0.373978</td>\n      <td>0.383551</td>\n      <td>0.568202</td>\n      <td>0.387159</td>\n      <td>0.067140</td>\n      <td>0.059550</td>\n      <td>0.149321</td>\n      <td>0.384931</td>\n      <td>-0.045698</td>\n      <td>0.286431</td>\n    </tr>\n    <tr>\n      <td>acanthosis</td>\n      <td>0.064184</td>\n      <td>0.108059</td>\n      <td>0.190815</td>\n      <td>0.067028</td>\n      <td>-0.054368</td>\n      <td>0.129329</td>\n      <td>-0.096554</td>\n      <td>0.101670</td>\n      <td>0.116670</td>\n      <td>0.158563</td>\n      <td>...</td>\n      <td>0.090962</td>\n      <td>0.130193</td>\n      <td>-0.071201</td>\n      <td>0.097804</td>\n      <td>-0.028465</td>\n      <td>-0.079935</td>\n      <td>0.132097</td>\n      <td>0.086601</td>\n      <td>0.045116</td>\n      <td>-0.079714</td>\n    </tr>\n    <tr>\n      <td>hyperkeratosis</td>\n      <td>-0.055667</td>\n      <td>0.013719</td>\n      <td>0.040818</td>\n      <td>-0.005734</td>\n      <td>0.001301</td>\n      <td>-0.165411</td>\n      <td>0.188790</td>\n      <td>-0.156190</td>\n      <td>0.230490</td>\n      <td>0.186144</td>\n      <td>...</td>\n      <td>0.008836</td>\n      <td>-0.164269</td>\n      <td>-0.250894</td>\n      <td>-0.139521</td>\n      <td>0.095727</td>\n      <td>0.087374</td>\n      <td>-0.118018</td>\n      <td>-0.145231</td>\n      <td>-0.012634</td>\n      <td>-0.055447</td>\n    </tr>\n    <tr>\n      <td>parakeratosis</td>\n      <td>0.210208</td>\n      <td>0.298726</td>\n      <td>0.357020</td>\n      <td>-0.070416</td>\n      <td>-0.039630</td>\n      <td>-0.044038</td>\n      <td>-0.030869</td>\n      <td>-0.041126</td>\n      <td>0.442761</td>\n      <td>0.480579</td>\n      <td>...</td>\n      <td>0.288003</td>\n      <td>-0.034364</td>\n      <td>-0.224684</td>\n      <td>-0.039723</td>\n      <td>0.005719</td>\n      <td>0.010340</td>\n      <td>-0.012100</td>\n      <td>-0.069086</td>\n      <td>0.040944</td>\n      <td>-0.423982</td>\n    </tr>\n    <tr>\n      <td>clubbing_of_the_rete_ridges</td>\n      <td>0.157469</td>\n      <td>0.321456</td>\n      <td>0.386015</td>\n      <td>-0.230524</td>\n      <td>0.007275</td>\n      <td>-0.295914</td>\n      <td>-0.116437</td>\n      <td>-0.285766</td>\n      <td>0.722823</td>\n      <td>0.769369</td>\n      <td>...</td>\n      <td>0.590498</td>\n      <td>-0.296671</td>\n      <td>-0.505705</td>\n      <td>-0.300336</td>\n      <td>-0.128416</td>\n      <td>-0.132489</td>\n      <td>0.007002</td>\n      <td>-0.303010</td>\n      <td>0.125601</td>\n      <td>-0.670244</td>\n    </tr>\n    <tr>\n      <td>elongation_of_the_rete_ridges</td>\n      <td>0.007586</td>\n      <td>0.139914</td>\n      <td>0.198695</td>\n      <td>-0.121157</td>\n      <td>-0.165733</td>\n      <td>-0.402164</td>\n      <td>-0.106159</td>\n      <td>-0.388372</td>\n      <td>0.497589</td>\n      <td>0.555367</td>\n      <td>...</td>\n      <td>0.395590</td>\n      <td>-0.405635</td>\n      <td>-0.583316</td>\n      <td>-0.408174</td>\n      <td>-0.177047</td>\n      <td>-0.187215</td>\n      <td>0.015425</td>\n      <td>-0.418133</td>\n      <td>0.125351</td>\n      <td>-0.359587</td>\n    </tr>\n    <tr>\n      <td>thinning_of_the_suprapapillary_epidermis</td>\n      <td>0.167784</td>\n      <td>0.331044</td>\n      <td>0.368059</td>\n      <td>-0.242449</td>\n      <td>0.024919</td>\n      <td>-0.288491</td>\n      <td>-0.128934</td>\n      <td>-0.278597</td>\n      <td>0.645798</td>\n      <td>0.746793</td>\n      <td>...</td>\n      <td>0.548213</td>\n      <td>-0.291752</td>\n      <td>-0.508326</td>\n      <td>-0.292802</td>\n      <td>-0.136157</td>\n      <td>-0.144689</td>\n      <td>0.027447</td>\n      <td>-0.297153</td>\n      <td>0.133226</td>\n      <td>-0.686302</td>\n    </tr>\n    <tr>\n      <td>spongiform_pustule</td>\n      <td>0.169696</td>\n      <td>0.298250</td>\n      <td>0.245189</td>\n      <td>-0.151424</td>\n      <td>-0.002912</td>\n      <td>-0.207214</td>\n      <td>-0.057658</td>\n      <td>-0.200107</td>\n      <td>0.447940</td>\n      <td>0.464010</td>\n      <td>...</td>\n      <td>0.272738</td>\n      <td>-0.211549</td>\n      <td>-0.284701</td>\n      <td>-0.210310</td>\n      <td>-0.092948</td>\n      <td>-0.087201</td>\n      <td>0.063175</td>\n      <td>-0.222040</td>\n      <td>0.084199</td>\n      <td>-0.450291</td>\n    </tr>\n    <tr>\n      <td>munro_microabcess</td>\n      <td>0.113366</td>\n      <td>0.186830</td>\n      <td>0.241031</td>\n      <td>-0.054341</td>\n      <td>0.156883</td>\n      <td>-0.202633</td>\n      <td>-0.096282</td>\n      <td>-0.191569</td>\n      <td>0.518942</td>\n      <td>0.632690</td>\n      <td>...</td>\n      <td>0.434168</td>\n      <td>-0.222404</td>\n      <td>-0.385007</td>\n      <td>-0.202158</td>\n      <td>-0.110901</td>\n      <td>-0.112971</td>\n      <td>-0.012492</td>\n      <td>-0.198946</td>\n      <td>0.091874</td>\n      <td>-0.522000</td>\n    </tr>\n    <tr>\n      <td>focal_hypergranulosis</td>\n      <td>-0.013896</td>\n      <td>-0.084684</td>\n      <td>0.290224</td>\n      <td>0.366460</td>\n      <td>0.399907</td>\n      <td>0.880901</td>\n      <td>-0.119131</td>\n      <td>0.884285</td>\n      <td>-0.267144</td>\n      <td>-0.256475</td>\n      <td>...</td>\n      <td>-0.138335</td>\n      <td>0.909596</td>\n      <td>0.050174</td>\n      <td>0.884006</td>\n      <td>-0.071576</td>\n      <td>-0.096193</td>\n      <td>0.231231</td>\n      <td>0.904460</td>\n      <td>0.101076</td>\n      <td>0.062642</td>\n    </tr>\n    <tr>\n      <td>disappearance_of_the_granular_layer</td>\n      <td>0.159014</td>\n      <td>0.212024</td>\n      <td>0.353809</td>\n      <td>-0.191183</td>\n      <td>0.003301</td>\n      <td>-0.120473</td>\n      <td>-0.157808</td>\n      <td>-0.107444</td>\n      <td>0.482614</td>\n      <td>0.488372</td>\n      <td>...</td>\n      <td>1.000000</td>\n      <td>-0.145341</td>\n      <td>-0.253924</td>\n      <td>-0.133853</td>\n      <td>-0.124525</td>\n      <td>-0.126850</td>\n      <td>0.080269</td>\n      <td>-0.142027</td>\n      <td>0.145447</td>\n      <td>-0.428408</td>\n    </tr>\n    <tr>\n      <td>vacuolisation_and_damage_of_basal_layer</td>\n      <td>0.002425</td>\n      <td>-0.109187</td>\n      <td>0.297138</td>\n      <td>0.370701</td>\n      <td>0.375926</td>\n      <td>0.911572</td>\n      <td>-0.140404</td>\n      <td>0.887487</td>\n      <td>-0.281784</td>\n      <td>-0.253429</td>\n      <td>...</td>\n      <td>-0.145341</td>\n      <td>1.000000</td>\n      <td>0.055340</td>\n      <td>0.938359</td>\n      <td>-0.091675</td>\n      <td>-0.112860</td>\n      <td>0.253318</td>\n      <td>0.937521</td>\n      <td>0.129198</td>\n      <td>0.054779</td>\n    </tr>\n    <tr>\n      <td>spongiosis</td>\n      <td>0.023084</td>\n      <td>0.010748</td>\n      <td>-0.249164</td>\n      <td>0.010451</td>\n      <td>-0.002478</td>\n      <td>0.082789</td>\n      <td>-0.012057</td>\n      <td>0.123183</td>\n      <td>-0.417120</td>\n      <td>-0.419951</td>\n      <td>...</td>\n      <td>-0.253924</td>\n      <td>0.055340</td>\n      <td>1.000000</td>\n      <td>0.067972</td>\n      <td>0.059355</td>\n      <td>0.070691</td>\n      <td>0.062170</td>\n      <td>0.038695</td>\n      <td>-0.090465</td>\n      <td>0.216956</td>\n    </tr>\n    <tr>\n      <td>saw-tooth_appearance_of_retes</td>\n      <td>-0.005915</td>\n      <td>-0.114134</td>\n      <td>0.273529</td>\n      <td>0.379251</td>\n      <td>0.381149</td>\n      <td>0.895043</td>\n      <td>-0.139582</td>\n      <td>0.875136</td>\n      <td>-0.280029</td>\n      <td>-0.258154</td>\n      <td>...</td>\n      <td>-0.133853</td>\n      <td>0.938359</td>\n      <td>0.067972</td>\n      <td>1.000000</td>\n      <td>-0.091023</td>\n      <td>-0.112199</td>\n      <td>0.248870</td>\n      <td>0.928703</td>\n      <td>0.113125</td>\n      <td>0.059828</td>\n    </tr>\n    <tr>\n      <td>follicular_horn_plug</td>\n      <td>-0.005515</td>\n      <td>-0.010335</td>\n      <td>-0.087689</td>\n      <td>-0.175467</td>\n      <td>-0.148507</td>\n      <td>-0.095809</td>\n      <td>0.785247</td>\n      <td>-0.082916</td>\n      <td>0.233218</td>\n      <td>-0.052285</td>\n      <td>...</td>\n      <td>-0.124525</td>\n      <td>-0.091675</td>\n      <td>0.059355</td>\n      <td>-0.091023</td>\n      <td>1.000000</td>\n      <td>0.928918</td>\n      <td>-0.058780</td>\n      <td>-0.099779</td>\n      <td>-0.356013</td>\n      <td>0.431835</td>\n    </tr>\n    <tr>\n      <td>perifollicular_parakeratosis</td>\n      <td>0.009474</td>\n      <td>-0.010949</td>\n      <td>-0.125562</td>\n      <td>-0.183683</td>\n      <td>-0.164937</td>\n      <td>-0.110547</td>\n      <td>0.844903</td>\n      <td>-0.106756</td>\n      <td>0.257988</td>\n      <td>-0.017731</td>\n      <td>...</td>\n      <td>-0.126850</td>\n      <td>-0.112860</td>\n      <td>0.070691</td>\n      <td>-0.112199</td>\n      <td>0.928918</td>\n      <td>1.000000</td>\n      <td>-0.073314</td>\n      <td>-0.113386</td>\n      <td>-0.391826</td>\n      <td>0.456894</td>\n    </tr>\n    <tr>\n      <td>inflammatory_monoluclear_inflitrate</td>\n      <td>0.075570</td>\n      <td>-0.010041</td>\n      <td>0.106925</td>\n      <td>0.067809</td>\n      <td>0.081283</td>\n      <td>0.227406</td>\n      <td>-0.085999</td>\n      <td>0.250015</td>\n      <td>-0.067483</td>\n      <td>0.033354</td>\n      <td>...</td>\n      <td>0.080269</td>\n      <td>0.253318</td>\n      <td>0.062170</td>\n      <td>0.248870</td>\n      <td>-0.058780</td>\n      <td>-0.073314</td>\n      <td>1.000000</td>\n      <td>0.234919</td>\n      <td>0.083582</td>\n      <td>-0.022100</td>\n    </tr>\n    <tr>\n      <td>band-like_infiltrate</td>\n      <td>-0.007099</td>\n      <td>-0.131738</td>\n      <td>0.281452</td>\n      <td>0.389908</td>\n      <td>0.382270</td>\n      <td>0.905763</td>\n      <td>-0.134335</td>\n      <td>0.892277</td>\n      <td>-0.276325</td>\n      <td>-0.250965</td>\n      <td>...</td>\n      <td>-0.142027</td>\n      <td>0.937521</td>\n      <td>0.038695</td>\n      <td>0.928703</td>\n      <td>-0.099779</td>\n      <td>-0.113386</td>\n      <td>0.234919</td>\n      <td>1.000000</td>\n      <td>0.105856</td>\n      <td>0.056612</td>\n    </tr>\n    <tr>\n      <td>Age</td>\n      <td>-0.003382</td>\n      <td>0.016329</td>\n      <td>0.144544</td>\n      <td>0.041879</td>\n      <td>0.083200</td>\n      <td>0.097759</td>\n      <td>-0.370265</td>\n      <td>0.112329</td>\n      <td>-0.078791</td>\n      <td>0.039395</td>\n      <td>...</td>\n      <td>0.145447</td>\n      <td>0.129198</td>\n      <td>-0.090465</td>\n      <td>0.113125</td>\n      <td>-0.356013</td>\n      <td>-0.391826</td>\n      <td>0.083582</td>\n      <td>0.105856</td>\n      <td>1.000000</td>\n      <td>-0.250133</td>\n    </tr>\n    <tr>\n      <td>Disease</td>\n      <td>-0.335800</td>\n      <td>-0.468502</td>\n      <td>-0.396057</td>\n      <td>0.056936</td>\n      <td>-0.092382</td>\n      <td>0.057176</td>\n      <td>0.477632</td>\n      <td>0.055215</td>\n      <td>-0.382977</td>\n      <td>-0.534427</td>\n      <td>...</td>\n      <td>-0.428408</td>\n      <td>0.054779</td>\n      <td>0.216956</td>\n      <td>0.059828</td>\n      <td>0.431835</td>\n      <td>0.456894</td>\n      <td>-0.022100</td>\n      <td>0.056612</td>\n      <td>-0.250133</td>\n      <td>1.000000</td>\n    </tr>\n  </tbody>\n</table>\n<p>35 rows × 35 columns</p>\n</div>"
     },
     "metadata": {},
     "execution_count": 46
    }
   ],
   "source": [
    "dataset.corr()"
   ]
  },
  {
   "cell_type": "code",
   "execution_count": 47,
   "metadata": {},
   "outputs": [],
   "source": [
    "dataset.to_csv('dermatology3.csv', index=False)"
   ]
  },
  {
   "cell_type": "code",
   "execution_count": 48,
   "metadata": {},
   "outputs": [],
   "source": []
  },
  {
   "cell_type": "code",
   "execution_count": 49,
   "metadata": {},
   "outputs": [],
   "source": [
    "\n",
    "\n",
    "# loading model from disk to compare results\n",
    "\n",
    "\n"
   ]
  },
  {
   "cell_type": "code",
   "execution_count": 53,
   "metadata": {},
   "outputs": [],
   "source": []
  },
  {
   "cell_type": "code",
   "execution_count": 54,
   "metadata": {},
   "outputs": [
    {
     "output_type": "execute_result",
     "data": {
      "text/plain": [
       "0.136986301369863"
      ]
     },
     "metadata": {},
     "execution_count": 54
    }
   ],
   "source": []
  },
  {
   "cell_type": "code",
   "execution_count": null,
   "metadata": {},
   "outputs": [],
   "source": []
  }
 ]
}